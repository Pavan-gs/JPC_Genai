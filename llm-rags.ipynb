{
 "cells": [
  {
   "cell_type": "code",
   "execution_count": null,
   "id": "e9241ed6-25bc-47ce-99d6-a8416bc3ee40",
   "metadata": {},
   "outputs": [],
   "source": [
    "#pip install ollama nltk rouge-score"
   ]
  },
  {
   "cell_type": "code",
   "execution_count": null,
   "id": "e576e579-b029-49f9-8c2c-b1823d3b7b64",
   "metadata": {},
   "outputs": [],
   "source": [
    "from ollama import Client\n",
    "from nltk.translate.bleu_score import sentence_bleu, SmoothingFunction\n",
    "from rouge_score import rouge_scorer\n",
    "\n",
    "# Initialize Ollama client\n",
    "ollama = Client(host='http://localhost:11434')"
   ]
  },
  {
   "cell_type": "code",
   "execution_count": null,
   "id": "947b3859-1079-4ae3-8341-5474a8c87819",
   "metadata": {},
   "outputs": [],
   "source": [
    "\n",
    "# Example task — summarize log errors (realistic for devs/engineers)\n",
    "context = \"\"\"\n",
    "2025-10-15 12:02:31 ERROR ConnectionTimeout: Database connection failed after 30s.\n",
    "2025-10-15 12:02:32 INFO Retrying connection...\n",
    "2025-10-15 12:02:35 ERROR AuthenticationFailed: Invalid DB credentials.\n",
    "2025-10-15 12:02:40 INFO Shutting down pipeline gracefully.\n",
    "\"\"\"\n",
    "\n",
    "reference_summary = \"Database connection failed due to timeout and authentication issues.\"\n",
    "\n",
    "# Helper: Generate response\n",
    "def ask_model(prompt):\n",
    "    res = ollama.chat(model='mistral', messages=[{'role': 'user', 'content': prompt}])\n",
    "    return res['message']['content'].strip()"
   ]
  },
  {
   "cell_type": "code",
   "execution_count": null,
   "id": "a727849b-ef83-4a41-9265-d05f96a47325",
   "metadata": {},
   "outputs": [],
   "source": [
    "# -------------------- Prompt Variants ----------------------\n",
    "\n",
    "#Zero-shot\n",
    "zero_shot_prompt = f\"Summarize the following server log in one sentence:\\n{context}\"\n",
    "zero_shot_output = ask_model(zero_shot_prompt)"
   ]
  },
  {
   "cell_type": "code",
   "execution_count": null,
   "id": "942f39be-50d2-4176-b69e-e0d24ca688a6",
   "metadata": {},
   "outputs": [],
   "source": [
    "zero_shot_output"
   ]
  },
  {
   "cell_type": "code",
   "execution_count": null,
   "id": "76c9f3a0-6be7-49c8-af0f-796ee655172d",
   "metadata": {},
   "outputs": [],
   "source": [
    "#One-shot\n",
    "one_shot_prompt = f\"\"\"\n",
    "Example:\n",
    "Log: \"2025-10-14 08:01:10 ERROR APIError: Token expired.\"\n",
    "Summary: API request failed due to expired token.\n",
    "\n",
    "Now summarize the following:\n",
    "{context}\n",
    "\"\"\"\n",
    "one_shot_output = ask_model(one_shot_prompt)"
   ]
  },
  {
   "cell_type": "code",
   "execution_count": null,
   "id": "7d2e287f-8133-4c2e-8ac5-62b7d6854e8a",
   "metadata": {},
   "outputs": [],
   "source": [
    "one_shot_output"
   ]
  },
  {
   "cell_type": "code",
   "execution_count": null,
   "id": "2f992577-bef3-42dd-821f-0e5620644da5",
   "metadata": {},
   "outputs": [],
   "source": [
    "#Few-shot\n",
    "few_shot_prompt = f\"\"\"\n",
    "Examples:\n",
    "Log: \"2025-10-14 08:01:10 ERROR APIError: Token expired.\"\n",
    "Summary: API request failed due to expired token.\n",
    "---\n",
    "Log: \"2025-10-12 22:10:05 ERROR DiskFull: Cannot write to /tmp.\"\n",
    "Summary: Disk was full preventing file writes.\n",
    "---\n",
    "Now summarize the following:\n",
    "{context}\n",
    "\"\"\"\n",
    "few_shot_output = ask_model(few_shot_prompt)"
   ]
  },
  {
   "cell_type": "code",
   "execution_count": null,
   "id": "30311cea-168d-4f67-9b32-4112fbb86463",
   "metadata": {},
   "outputs": [],
   "source": [
    "few_shot_output"
   ]
  },
  {
   "cell_type": "code",
   "execution_count": null,
   "id": "debdd598-bd4a-45cb-a937-81b55115d4a9",
   "metadata": {},
   "outputs": [],
   "source": [
    "# Chain-of-Thought (CoT)\n",
    "cot_prompt = f\"\"\"\n",
    "Let's reason step by step.\n",
    "1. Identify key errors and their causes.\n",
    "2. Summarize them concisely.\n",
    "\n",
    "Logs:\n",
    "{context}\n",
    "\"\"\"\n",
    "cot_output = ask_model(cot_prompt)"
   ]
  },
  {
   "cell_type": "code",
   "execution_count": null,
   "id": "5a151190-55e9-4826-a500-b6507857d35d",
   "metadata": {},
   "outputs": [],
   "source": [
    "print(cot_output)"
   ]
  },
  {
   "cell_type": "code",
   "execution_count": null,
   "id": "5714187d-1151-4af5-8d43-60174e0f01cf",
   "metadata": {},
   "outputs": [],
   "source": [
    "#Self-consistency: multiple reasoning samples averaged\n",
    "import random\n",
    "\n",
    "sc_outputs = []\n",
    "for i in range(3):  # 3 reasoning paths\n",
    "    sc_prompt = cot_prompt + f\"\\nReasoning attempt {i+1}:\"\n",
    "    sc_outputs.append(ask_model(sc_prompt))\n",
    "\n",
    "# choose most frequent / best overlap summary (simple heuristic)\n",
    "from collections import Counter\n",
    "final_sc_output = Counter(sc_outputs).most_common(1)[0][0]"
   ]
  },
  {
   "cell_type": "code",
   "execution_count": null,
   "id": "022e1e67-ee23-4c44-ba7b-fc2513f17b3e",
   "metadata": {},
   "outputs": [],
   "source": [
    "print(final_sc_output)"
   ]
  },
  {
   "cell_type": "code",
   "execution_count": null,
   "id": "6ea4602c-f4c4-4963-8d79-ac0052e6f6d7",
   "metadata": {},
   "outputs": [],
   "source": [
    "print(sc_outputs)"
   ]
  },
  {
   "cell_type": "code",
   "execution_count": null,
   "id": "5c2085e9-46e9-47a7-856d-20e66288c349",
   "metadata": {},
   "outputs": [],
   "source": [
    "sc_outputs"
   ]
  },
  {
   "cell_type": "code",
   "execution_count": null,
   "id": "35d43bc4-c877-4360-9f0a-2549585f860a",
   "metadata": {},
   "outputs": [],
   "source": [
    "from nltk.translate.bleu_score import corpus_bleu, SmoothingFunction\n",
    "from rouge_score import rouge_scorer\n",
    "\n",
    "def evaluate(prediction, reference):\n",
    "    # Tokenize\n",
    "    reference_tokens = [reference.split()]\n",
    "    prediction_tokens = prediction.split()\n",
    "    \n",
    "    # BLEU with smoother to prevent 0s\n",
    "    try:\n",
    "        bleu = corpus_bleu([reference_tokens], [prediction_tokens],\n",
    "                           smoothing_function=SmoothingFunction().method1)\n",
    "    except TypeError:\n",
    "        bleu = 0.0  # fallback if NLTK bug appears\n",
    "\n",
    "    # ROUGE\n",
    "    rouge = rouge_scorer.RougeScorer(['rouge1', 'rougeL'], use_stemmer=True)\n",
    "    rouge_scores = rouge.score(reference, prediction)\n",
    "    rouge1 = rouge_scores['rouge1'].fmeasure\n",
    "    rougeL = rouge_scores['rougeL'].fmeasure\n",
    "\n",
    "    return bleu, rouge1, rougeL"
   ]
  },
  {
   "cell_type": "code",
   "execution_count": null,
   "id": "6201d9e8-b431-4aee-b81c-b7969cb6da16",
   "metadata": {},
   "outputs": [],
   "source": [
    "# -------------------- Evaluate ------------------------------\n",
    "print(\"=== Evaluation Results ===\\n\")\n",
    "for label, output in [\n",
    "    (\"Zero-shot\", zero_shot_output),\n",
    "    (\"One-shot\", one_shot_output),\n",
    "    (\"Few-shot\", few_shot_output),\n",
    "    (\"Chain-of-Thought\", cot_output),\n",
    "    (\"Self-Consistency\", final_sc_output)\n",
    "]:\n",
    "    bleu, rouge1, rougeL = evaluate(output, reference_summary)\n",
    "    print(f\"{label}:\\nOutput: {output}\\nBLEU={bleu:.3f}, ROUGE-1={rouge1:.3f}, ROUGE-L={rougeL:.3f}\\n\")"
   ]
  },
  {
   "cell_type": "code",
   "execution_count": null,
   "id": "a2cb8fda-24e8-455f-8e47-d4c6e3c9dd05",
   "metadata": {},
   "outputs": [],
   "source": [
    "reference_comment = \"Function to connect to database and return connection object.\"\n",
    "\n",
    "prompt = \"\"\"\n",
    "# Write a Python function to connect to a database.\n",
    "# Generate a one-line docstring describing its purpose clearly.\n",
    "\n",
    "def connect_db():\n",
    "    pass\n",
    "\"\"\"\n",
    "\n",
    "pred = ask_model(prompt)\n",
    "bleu, rouge1, rougeL = evaluate(pred, reference_comment)\n",
    "print(\"Model output:\", pred)\n",
    "print(f\"BLEU={bleu:.3f}, ROUGE-1={rouge1:.3f}\")"
   ]
  },
  {
   "cell_type": "code",
   "execution_count": null,
   "id": "e1904b75-1079-4972-8efb-dabfadec3bec",
   "metadata": {},
   "outputs": [],
   "source": [
    "reference_sentence = \"ETL job completed successfully for customer data pipeline.\"\n",
    "\n",
    "prompt = \"\"\"\n",
    "Rephrase this ETL status message in the same wording style:\n",
    "\"ETL job completed successfully for customer data pipeline.\"\n",
    "\"\"\"\n",
    "\n",
    "pred = ask_model(prompt)\n",
    "bleu, rouge1, rougeL = evaluate(pred, reference_sentence)\n",
    "print(pred)\n",
    "print(f\"BLEU={bleu:.3f}, ROUGE-1={rouge1:.3f}\")"
   ]
  },
  {
   "cell_type": "code",
   "execution_count": null,
   "id": "2ad1351e-0bdb-4a6e-8ed0-114890b5ddb7",
   "metadata": {},
   "outputs": [],
   "source": [
    "#pip install langchain langchain-community chromadb sentence-transformers streamlit"
   ]
  },
  {
   "cell_type": "code",
   "execution_count": null,
   "id": "4f8454c6-dc62-47a8-b904-b0a385b58a52",
   "metadata": {},
   "outputs": [],
   "source": [
    "from sentence_transformers import SentenceTransformer\n",
    "model = SentenceTransformer(\"all-MiniLM-L6-v2\")\n",
    "print(\"Model loaded OK\")"
   ]
  },
  {
   "cell_type": "code",
   "execution_count": null,
   "id": "d8d5489f-4238-46cd-b03a-915fb59ca099",
   "metadata": {},
   "outputs": [],
   "source": [
    "from langchain_community.embeddings import SentenceTransformerEmbeddings\n",
    "from langchain_community.vectorstores import Chroma\n",
    "from langchain_community.document_loaders import TextLoader\n",
    "\n",
    "loader = TextLoader(\"reports/fin_report.txt\")\n",
    "docs = loader.load()\n",
    "\n",
    "embedding = SentenceTransformerEmbeddings(model_name=\"all-MiniLM-L6-v2\")\n",
    "\n",
    "# In-memory mode – no persistence directory\n",
    "vectordb = Chroma.from_documents(docs, embedding, persist_directory=None)\n",
    "print(\"In-memory vector store created successfully!\")"
   ]
  },
  {
   "cell_type": "code",
   "execution_count": null,
   "id": "3ac70b5b-f310-4dd2-9c70-9e83639c13c0",
   "metadata": {},
   "outputs": [],
   "source": [
    "# rag_prepare.py\n",
    "from langchain_community.embeddings import SentenceTransformerEmbeddings\n",
    "from langchain_community.vectorstores import Chroma\n",
    "from langchain_community.document_loaders import TextLoader\n",
    "\n",
    "# Load\n",
    "loader = TextLoader(\"reports/fin_report.txt\")\n",
    "docs = loader.load()\n",
    "'''\n",
    "# Embed & store\n",
    "embedding = SentenceTransformerEmbeddings(model_name=\"all-MiniLM-L6-v2\")\n",
    "vectordb = Chroma.from_documents(docs, embedding, persist_directory=\"db\")\n",
    "vectordb.persist()\n",
    "\n",
    "print(\"Vector store ready\")'''\n",
    "\n",
    "from langchain_community.vectorstores import FAISS\n",
    "\n",
    "embedding = SentenceTransformerEmbeddings(model_name=\"all-MiniLM-L6-v2\")\n",
    "vectordb = FAISS.from_documents(docs, embedding)\n",
    "print(\"FAISS index created\")"
   ]
  },
  {
   "cell_type": "code",
   "execution_count": null,
   "id": "bc7ee1d3-fd7b-4aaf-ad57-1ed7e3840d65",
   "metadata": {},
   "outputs": [],
   "source": [
    "from langchain_community.vectorstores import FAISS\n",
    "\n",
    "embedding = SentenceTransformerEmbeddings(model_name=\"all-MiniLM-L6-v2\")\n",
    "vectordb = FAISS.from_documents(docs, embedding)\n",
    "print(\"FAISS index created\")"
   ]
  },
  {
   "cell_type": "code",
   "execution_count": null,
   "id": "b1489501-5038-4c66-a806-18bcf1211903",
   "metadata": {},
   "outputs": [],
   "source": [
    "vectordb.save_local(\"faiss_index\")\n",
    "print(\"FAISS vector store created and saved to ./faiss_index\")"
   ]
  },
  {
   "cell_type": "code",
   "execution_count": null,
   "id": "26dddf78-e27f-418f-9a3a-cb7d526ec7ad",
   "metadata": {},
   "outputs": [],
   "source": [
    "# rag_query.py\n",
    "from langchain.chains import RetrievalQA\n",
    "from langchain_community.llms import Ollama\n",
    "from langchain_community.vectorstores import Chroma\n",
    "\n",
    "llm = Ollama(model=\"mistral\")\n",
    "#vectordb = Chroma(persist_directory=\"db\")\n",
    "vectordb = FAISS.load_local(\"faiss_index\", embedding, allow_dangerous_deserialization=True)\n",
    "retriever = vectordb.as_retriever(search_kwargs={\"k\": 3})\n",
    "\n",
    "qa = RetrievalQA.from_chain_type(\n",
    "    llm=llm,\n",
    "    chain_type=\"stuff\",\n",
    "    retriever=retriever,\n",
    "    return_source_documents=True\n",
    ")\n",
    "\n",
    "query = \"Summarize the risk section of the report\"\n",
    "result = qa(query)\n",
    "print(result[\"result\"])"
   ]
  },
  {
   "cell_type": "code",
   "execution_count": null,
   "id": "2aa33589-7077-42af-82ea-4231057761e3",
   "metadata": {},
   "outputs": [],
   "source": [
    "# Ask a question\n",
    "query = \"Summarize the major risk factors mentioned in the report.\"\n",
    "result = qa(query)\n",
    "\n",
    "print(\"Query:\", query)\n",
    "print(\"Answer:\\n\", result[\"result\"])"
   ]
  },
  {
   "cell_type": "code",
   "execution_count": null,
   "id": "66f50fed-1f90-42cb-b9be-b3c50f7e3278",
   "metadata": {},
   "outputs": [],
   "source": [
    "# ========================================\n",
    "# Step 3 – Interactive Streamlit App\n",
    "# ========================================\n",
    "with open(\"rag_faiss_app.py\", \"w\", encoding=\"utf-8\") as f:\n",
    "    f.write(\"\"\"\n",
    "import streamlit as st\n",
    "from langchain_community.llms import Ollama\n",
    "from langchain_community.vectorstores import FAISS\n",
    "from langchain_community.embeddings import SentenceTransformerEmbeddings\n",
    "from langchain.chains import RetrievalQA\n",
    "\n",
    "st.title(\"Financial Report Q&A (Ollama + FAISS + LangChain)\")\n",
    "query = st.text_input(\"Ask a question about the financial report:\")\n",
    "\n",
    "if st.button(\"Get Answer\") and query:\n",
    "    with st.spinner(\"Analyzing...\"):\n",
    "        embedding = SentenceTransformerEmbeddings(model_name=\"all-MiniLM-L6-v2\")\n",
    "        vectordb = FAISS.load_local(\"faiss_index\", embedding, allow_dangerous_deserialization=True)\n",
    "        retriever = vectordb.as_retriever(search_kwargs={\"k\": 3})\n",
    "        llm = Ollama(model=\"mistral\")\n",
    "        qa = RetrievalQA.from_chain_type(llm=llm, chain_type=\"stuff\", retriever=retriever)\n",
    "        answer = qa.run(query)\n",
    "        st.write(\"### Answer:\")\n",
    "        st.write(answer)\n",
    "\"\"\")\n"
   ]
  }
 ],
 "metadata": {
  "kernelspec": {
   "display_name": "Python 3 (ipykernel)",
   "language": "python",
   "name": "python3"
  },
  "language_info": {
   "codemirror_mode": {
    "name": "ipython",
    "version": 3
   },
   "file_extension": ".py",
   "mimetype": "text/x-python",
   "name": "python",
   "nbconvert_exporter": "python",
   "pygments_lexer": "ipython3",
   "version": "3.12.4"
  }
 },
 "nbformat": 4,
 "nbformat_minor": 5
}
